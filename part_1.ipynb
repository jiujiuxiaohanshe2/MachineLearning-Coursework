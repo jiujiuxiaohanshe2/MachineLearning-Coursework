{
 "cells": [
  {
   "cell_type": "code",
   "execution_count": 17,
   "id": "94c901b1-21aa-46a2-891d-3f16cefda839",
   "metadata": {
    "tags": []
   },
   "outputs": [
    {
     "name": "stdout",
     "output_type": "stream",
     "text": [
      "\n",
      "Summary statistics before preprocessing:\n",
      "\n",
      "               Age         Sex     ChestPain      RestBP        Chol  \\\n",
      "count   303.000000  303.000000           303  303.000000  303.000000   \n",
      "unique         NaN         NaN             4         NaN         NaN   \n",
      "top            NaN         NaN  asymptomatic         NaN         NaN   \n",
      "freq           NaN         NaN           144         NaN         NaN   \n",
      "mean     54.438944    0.679868           NaN  131.689769  246.693069   \n",
      "std       9.038662    0.467299           NaN   17.599748   51.776918   \n",
      "min      29.000000    0.000000           NaN   94.000000  126.000000   \n",
      "25%      48.000000    0.000000           NaN  120.000000  211.000000   \n",
      "50%      56.000000    1.000000           NaN  130.000000  241.000000   \n",
      "75%      61.000000    1.000000           NaN  140.000000  275.000000   \n",
      "max      77.000000    1.000000           NaN  200.000000  564.000000   \n",
      "\n",
      "               Fbs     RestECG       MaxHR       ExAng     Oldpeak  \\\n",
      "count   303.000000  303.000000  303.000000  303.000000  303.000000   \n",
      "unique         NaN         NaN         NaN         NaN         NaN   \n",
      "top            NaN         NaN         NaN         NaN         NaN   \n",
      "freq           NaN         NaN         NaN         NaN         NaN   \n",
      "mean      0.148515    0.990099  149.607261    0.326733    1.039604   \n",
      "std       0.356198    0.994971   22.875003    0.469794    1.161075   \n",
      "min       0.000000    0.000000   71.000000    0.000000    0.000000   \n",
      "25%       0.000000    0.000000  133.500000    0.000000    0.000000   \n",
      "50%       0.000000    1.000000  153.000000    0.000000    0.800000   \n",
      "75%       0.000000    2.000000  166.000000    1.000000    1.600000   \n",
      "max       1.000000    2.000000  202.000000    1.000000    6.200000   \n",
      "\n",
      "             Slope          Ca    Thal  AHD  \n",
      "count   303.000000  299.000000     301  303  \n",
      "unique         NaN         NaN       3    2  \n",
      "top            NaN         NaN  normal   No  \n",
      "freq           NaN         NaN     166  164  \n",
      "mean      1.600660    0.672241     NaN  NaN  \n",
      "std       0.616226    0.937438     NaN  NaN  \n",
      "min       1.000000    0.000000     NaN  NaN  \n",
      "25%       1.000000    0.000000     NaN  NaN  \n",
      "50%       2.000000    0.000000     NaN  NaN  \n",
      "75%       2.000000    1.000000     NaN  NaN  \n",
      "max       3.000000    3.000000     NaN  NaN  \n"
     ]
    }
   ],
   "source": [
    "import pandas as pd\n",
    "import numpy as np\n",
    "from sklearn.model_selection import train_test_split, GridSearchCV\n",
    "from sklearn.preprocessing import StandardScaler\n",
    "from sklearn.linear_model import LogisticRegression\n",
    "from sklearn.neighbors import KNeighborsClassifier\n",
    "from sklearn.ensemble import RandomForestClassifier\n",
    "from sklearn.metrics import confusion_matrix, accuracy_score, roc_curve, auc\n",
    "import matplotlib.pyplot as plt\n",
    "\n",
    "# Read data\n",
    "df = pd.read_csv(\"Heart.csv\")\n",
    "df = df.drop(columns=[\"Unnamed: 0\"])  # Drop unnecessary index column\n",
    "\n",
    "# Describe the original dataset before preprocessing\n",
    "print(\"\\nSummary statistics before preprocessing:\\n\")\n",
    "original_summary_stats = df.describe(include=\"all\")\n",
    "print(original_summary_stats)\n"
   ]
  },
  {
   "cell_type": "code",
   "execution_count": 18,
   "id": "0dbf0a58-0f57-4d49-aaa1-51b2cd1bf394",
   "metadata": {},
   "outputs": [
    {
     "name": "stdout",
     "output_type": "stream",
     "text": [
      "\n",
      "Summary statistics after preprocessing:\n",
      "\n",
      "              Age         Sex        RestBP          Chol         Fbs  \\\n",
      "count  297.000000  297.000000  2.970000e+02  2.970000e+02  297.000000   \n",
      "mean    54.542088    0.676768  4.904420e-16 -1.958777e-16    0.144781   \n",
      "std      9.049736    0.468500  1.001688e+00  1.001688e+00    0.352474   \n",
      "min     29.000000    0.000000 -2.125634e+00 -2.337704e+00    0.000000   \n",
      "25%     48.000000    0.000000 -6.594306e-01 -7.002541e-01    0.000000   \n",
      "50%     56.000000    1.000000 -9.550637e-02 -8.380217e-02    0.000000   \n",
      "75%     61.000000    1.000000  4.684179e-01  5.519138e-01    0.000000   \n",
      "max     77.000000    1.000000  3.851964e+00  6.099981e+00    1.000000   \n",
      "\n",
      "          RestECG         MaxHR       ExAng     Oldpeak       Slope  \\\n",
      "count  297.000000  2.970000e+02  297.000000  297.000000  297.000000   \n",
      "mean     0.996633  4.784800e-16    0.326599    1.055556    1.602694   \n",
      "std      0.994914  1.001688e+00    0.469761    1.166123    0.618187   \n",
      "min      0.000000 -3.431849e+00    0.000000    0.000000    1.000000   \n",
      "25%      0.000000 -7.247694e-01    0.000000    0.000000    1.000000   \n",
      "50%      1.000000  1.484822e-01    0.000000    0.800000    2.000000   \n",
      "75%      2.000000  7.160957e-01    1.000000    1.600000    2.000000   \n",
      "max      2.000000  2.287949e+00    1.000000    6.200000    3.000000   \n",
      "\n",
      "               Ca  \n",
      "count  297.000000  \n",
      "mean     0.676768  \n",
      "std      0.938965  \n",
      "min      0.000000  \n",
      "25%      0.000000  \n",
      "50%      0.000000  \n",
      "75%      1.000000  \n",
      "max      3.000000  \n"
     ]
    }
   ],
   "source": [
    "# Remove missing values\n",
    "df_clean = df.dropna()\n",
    "\n",
    "# Encode categorical variable\n",
    "# AHD: Heart disease status (No -> 0, Yes -> 1)\n",
    "df_clean.loc[:, \"AHD\"] = df_clean[\"AHD\"].map({\"No\": 0, \"Yes\": 1})\n",
    "\n",
    "# Convert ChestPain and Thal into dummy variables (one-hot encoding)\n",
    "df_clean = pd.get_dummies(df_clean, columns=[\"ChestPain\", \"Thal\"], drop_first=True)\n",
    "\n",
    "# Standardize numerical variables (mean = 0, std = 1)\n",
    "scaler = StandardScaler()\n",
    "columns_to_scale = [\"RestBP\", \"Chol\", \"MaxHR\"]\n",
    "df_clean[columns_to_scale] = scaler.fit_transform(df_clean[columns_to_scale])\n",
    "\n",
    "# Display summary statistics after preprocessing\n",
    "print(\"\\nSummary statistics after preprocessing:\\n\")\n",
    "summary_stats = df_clean.describe()\n",
    "print(summary_stats)\n",
    "\n"
   ]
  },
  {
   "cell_type": "code",
   "execution_count": 19,
   "id": "eada5966-a6c1-41a0-8dcb-98a28a837462",
   "metadata": {
    "tags": []
   },
   "outputs": [],
   "source": [
    "X = df_clean.drop(\"AHD\", axis=1)\n",
    "y = df_clean[\"AHD\"]\n",
    "\n",
    "# Convert to NumPy format to avoid potential incompatibility with some sklearn algorithms\n",
    "X = X.to_numpy().astype(np.float64)\n",
    "y = y.to_numpy().astype(int)\n",
    "\n",
    "# Split into training and test sets\n",
    "X_train, X_test, y_train, y_test = train_test_split(X, y, test_size=0.2, random_state=42)\n"
   ]
  },
  {
   "cell_type": "code",
   "execution_count": 20,
   "id": "6c74636d-4603-4933-a147-4ff5deb7537c",
   "metadata": {
    "tags": []
   },
   "outputs": [],
   "source": [
    "# Build classifiers\n",
    "\n",
    "results = {}\n",
    "\n",
    "# Logistic Regression\n",
    "log_reg = LogisticRegression(max_iter=1000)\n",
    "log_reg.fit(X_train, y_train)\n",
    "y_prob_lr = log_reg.predict_proba(X_test)[:, 1]\n",
    "y_pred_lr = log_reg.predict(X_test)\n",
    "results[\"Logistic Regression\"] = {\n",
    "    \"model\": log_reg,\n",
    "    \"y_pred\": y_pred_lr,\n",
    "    \"y_prob\": y_prob_lr,\n",
    "    \"confusion\": confusion_matrix(y_test, y_pred_lr),\n",
    "    \"accuracy\": accuracy_score(y_test, y_pred_lr)\n",
    "}\n",
    "\n",
    "# KNN with best k via GridSearchCV\n",
    "knn = KNeighborsClassifier()\n",
    "grid_knn = GridSearchCV(knn, {\"n_neighbors\": range(1, 21)}, cv=5)\n",
    "grid_knn.fit(X_train, y_train)\n",
    "best_knn = grid_knn.best_estimator_\n",
    "y_prob_knn = best_knn.predict_proba(X_test)[:, 1]\n",
    "y_pred_knn = best_knn.predict(X_test)\n",
    "results[\"KNN\"] = {\n",
    "    \"model\": best_knn,\n",
    "    \"y_pred\": y_pred_knn,\n",
    "    \"y_prob\": y_prob_knn,\n",
    "    \"confusion\": confusion_matrix(y_test, y_pred_knn),\n",
    "    \"accuracy\": accuracy_score(y_test, y_pred_knn),\n",
    "    \"best_k\": grid_knn.best_params_[\"n_neighbors\"]\n",
    "}\n",
    "\n",
    "# Random Forest with best params\n",
    "rf = RandomForestClassifier(random_state=42)\n",
    "param_grid = {\"n_estimators\": [50, 100, 200], \"max_depth\": [3, 5, 10, None]}\n",
    "grid_rf = GridSearchCV(rf, param_grid, cv=5)\n",
    "grid_rf.fit(X_train, y_train)\n",
    "best_rf = grid_rf.best_estimator_\n",
    "y_prob_rf = best_rf.predict_proba(X_test)[:, 1]\n",
    "y_pred_rf = best_rf.predict(X_test)\n",
    "results[\"Random Forest\"] = {\n",
    "    \"model\": best_rf,\n",
    "    \"y_pred\": y_pred_rf,\n",
    "    \"y_prob\": y_prob_rf,\n",
    "    \"confusion\": confusion_matrix(y_test, y_pred_rf),\n",
    "    \"accuracy\": accuracy_score(y_test, y_pred_rf),\n",
    "    \"best_params\": grid_rf.best_params_\n",
    "}\n"
   ]
  },
  {
   "cell_type": "code",
   "execution_count": 21,
   "id": "1d192ad1-e3ca-417e-8cb9-03782f8fbd65",
   "metadata": {
    "tags": []
   },
   "outputs": [
    {
     "data": {
      "image/png": "[encoded data removed]",
      "text/plain": [
       "<Figure size 800x600 with 1 Axes>"
      ]
     },
     "metadata": {},
     "output_type": "display_data"
    }
   ],
   "source": [
    "# Plot ROC curves for comparison\n",
    "\n",
    "plt.figure(figsize=(8, 6))\n",
    "for name, res in results.items():\n",
    "    fpr, tpr, _ = roc_curve(y_test, res[\"y_prob\"])\n",
    "    roc_auc = auc(fpr, tpr)\n",
    "    plt.plot(fpr, tpr, label=f'{name} (AUC = {roc_auc:.2f})')\n",
    "\n",
    "plt.plot([0, 1], [0, 1], 'k--')\n",
    "plt.xlabel(\"False Positive Rate\")\n",
    "plt.ylabel(\"True Positive Rate\")\n",
    "plt.title(\"ROC Curve Comparison\")\n",
    "plt.legend()\n",
    "plt.grid()\n",
    "plt.show()\n"
   ]
  },
  {
   "cell_type": "code",
   "execution_count": 22,
   "id": "115fef58-b95e-4bbc-a101-7a0397c26ee3",
   "metadata": {
    "tags": []
   },
   "outputs": [
    {
     "name": "stdout",
     "output_type": "stream",
     "text": [
      "\n",
      "Logistic Regression\n",
      " \n",
      "Confusion Matrix:\n",
      " [[32  4]\n",
      " [ 4 20]]\n",
      "Accuracy: 0.867\n",
      "\n",
      "KNN\n",
      "Best Params: 1\n",
      "Confusion Matrix:\n",
      " [[29  7]\n",
      " [ 7 17]]\n",
      "Accuracy: 0.767\n",
      "\n",
      "Random Forest\n",
      "Best Params: {'max_depth': 3, 'n_estimators': 200}\n",
      "Confusion Matrix:\n",
      " [[33  3]\n",
      " [ 3 21]]\n",
      "Accuracy: 0.900\n"
     ]
    }
   ],
   "source": [
    "# Output confusion matrices and accuracy scores\n",
    "\n",
    "for name, res in results.items():\n",
    "    print(f\"\\n{name}\")\n",
    "    print(\"Best Params:\" if \"best_k\" in res or \"best_params\" in res else \"\", res.get(\"best_k\", res.get(\"best_params\", \"\")))\n",
    "    print(\"Confusion Matrix:\\n\", res[\"confusion\"])\n",
    "    print(\"Accuracy: {:.3f}\".format(res[\"accuracy\"]))"
   ]
  },
  {
   "cell_type": "code",
   "execution_count": 23,
   "id": "3926b8c5-ff2e-4d05-bf1c-82bd1cc330a5",
   "metadata": {
    "tags": []
   },
   "outputs": [
    {
     "name": "stdout",
     "output_type": "stream",
     "text": [
      "Prediction result:\n",
      "The patient is predicted to NOT have heart disease (probability = 0.30)\n"
     ]
    }
   ],
   "source": [
    "# Predict heart disease for a new patient\n",
    "\n",
    "# Manually construct the new patient's features (in the same order as training data)\n",
    "new_patient = {\n",
    "    \"Age\": 55,\n",
    "    \"Sex\": 0,\n",
    "    \"RestBP\": 130,\n",
    "    \"Chol\": 246,\n",
    "    \"Fbs\": 0,\n",
    "    \"RestECG\": 2,\n",
    "    \"MaxHR\": 150,\n",
    "    \"ExAng\": 1,\n",
    "    \"Oldpeak\": 1,\n",
    "    \"Slope\": 2,\n",
    "    \"Ca\": 0,\n",
    "    # ChestPain: typical\n",
    "    \"ChestPain_nonanginal\": 0,\n",
    "    \"ChestPain_nontypical\": 0,\n",
    "    \"ChestPain_typical\": 1,\n",
    "    # Thal: normal\n",
    "    \"Thal_normal\": 1,\n",
    "    \"Thal_reversable\": 0\n",
    "}\n",
    "\n",
    "# Convert to DataFrame\n",
    "new_df = pd.DataFrame([new_patient])\n",
    "\n",
    "# Standardize RestBP, Chol, MaxHR using the original scaler\n",
    "new_df[[\"RestBP\", \"Chol\", \"MaxHR\"]] = scaler.transform(new_df[[\"RestBP\", \"Chol\", \"MaxHR\"]])\n",
    "\n",
    "# Convert to NumPy array\n",
    "X_new = new_df.to_numpy().astype(np.float64)\n",
    "\n",
    "# Use the best model selected\n",
    "best_model = results[\"Random Forest\"][\"model\"]  \n",
    "\n",
    "# Predict class (0 = No heart disease, 1 = Has heart disease)\n",
    "pred_class = best_model.predict(X_new)[0]\n",
    "pred_prob = best_model.predict_proba(X_new)[0][1]  # Get probability of heart disease\n",
    "\n",
    "# Print the result\n",
    "print(\"Prediction result:\")\n",
    "if pred_class == 1:\n",
    "    print(\"The patient is predicted to HAVE heart disease (probability = {:.2f})\".format(pred_prob))\n",
    "else:\n",
    "    print(\"The patient is predicted to NOT have heart disease (probability = {:.2f})\".format(pred_prob))\n"
   ]
  }
 ],
 "metadata": {
  "kernelspec": {
   "display_name": "Python 3 (ipykernel)",
   "language": "python",
   "name": "python3"
  },
  "language_info": {
   "codemirror_mode": {
    "name": "ipython",
    "version": 3
   },
   "file_extension": ".py",
   "mimetype": "text/x-python",
   "name": "python",
   "nbconvert_exporter": "python",
   "pygments_lexer": "ipython3",
   "version": "3.11.5"
  }
 },
 "nbformat": 4,
 "nbformat_minor": 5
}
